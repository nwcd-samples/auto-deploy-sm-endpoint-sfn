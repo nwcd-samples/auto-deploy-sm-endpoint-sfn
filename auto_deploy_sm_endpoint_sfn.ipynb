{
 "cells": [
  {
   "cell_type": "markdown",
   "id": "6d25c710",
   "metadata": {},
   "source": [
    "# 创建自动部署 Sagemaker Endpoint for TensorFlow Step Function 状态机\n",
    "\n",
    "## 介绍\n",
    "该 Notebook 使用 AWS Step Functions Data Science SDK 创建一个自动部署 Sagemaker TensorFlow 的 workflow。可以自动部署存储在 S3 中的 TensorFlow 模型文件为 Sagemaker Endpoint，并且当模型重新训练，模型文件更新后，可以自动部署更新 Sagemaker 的模型服务。"
   ]
  },
  {
   "cell_type": "code",
   "execution_count": 30,
   "id": "ea01ead9",
   "metadata": {},
   "outputs": [
    {
     "name": "stdout",
     "output_type": "stream",
     "text": [
      "Requirement already satisfied: stepfunctions in /home/ec2-user/anaconda3/envs/tensorflow_p36/lib/python3.6/site-packages (2.1.0)\n",
      "Requirement already satisfied: boto3>=1.14.38 in /home/ec2-user/anaconda3/envs/tensorflow_p36/lib/python3.6/site-packages (from stepfunctions) (1.17.79)\n",
      "Requirement already satisfied: sagemaker>=2.1.0 in /home/ec2-user/anaconda3/envs/tensorflow_p36/lib/python3.6/site-packages (from stepfunctions) (2.42.0)\n",
      "Requirement already satisfied: pyyaml in /home/ec2-user/anaconda3/envs/tensorflow_p36/lib/python3.6/site-packages (from stepfunctions) (5.4.1)\n",
      "Requirement already satisfied: jmespath<1.0.0,>=0.7.1 in /home/ec2-user/anaconda3/envs/tensorflow_p36/lib/python3.6/site-packages (from boto3>=1.14.38->stepfunctions) (0.10.0)\n",
      "Requirement already satisfied: s3transfer<0.5.0,>=0.4.0 in /home/ec2-user/anaconda3/envs/tensorflow_p36/lib/python3.6/site-packages (from boto3>=1.14.38->stepfunctions) (0.4.2)\n",
      "Requirement already satisfied: botocore<1.21.0,>=1.20.79 in /home/ec2-user/anaconda3/envs/tensorflow_p36/lib/python3.6/site-packages (from boto3>=1.14.38->stepfunctions) (1.20.79)\n",
      "Requirement already satisfied: urllib3<1.27,>=1.25.4 in /home/ec2-user/anaconda3/envs/tensorflow_p36/lib/python3.6/site-packages (from botocore<1.21.0,>=1.20.79->boto3>=1.14.38->stepfunctions) (1.26.4)\n",
      "Requirement already satisfied: python-dateutil<3.0.0,>=2.1 in /home/ec2-user/anaconda3/envs/tensorflow_p36/lib/python3.6/site-packages (from botocore<1.21.0,>=1.20.79->boto3>=1.14.38->stepfunctions) (2.8.1)\n",
      "Requirement already satisfied: six>=1.5 in /home/ec2-user/anaconda3/envs/tensorflow_p36/lib/python3.6/site-packages (from python-dateutil<3.0.0,>=2.1->botocore<1.21.0,>=1.20.79->boto3>=1.14.38->stepfunctions) (1.15.0)\n",
      "Requirement already satisfied: smdebug-rulesconfig==1.0.1 in /home/ec2-user/anaconda3/envs/tensorflow_p36/lib/python3.6/site-packages (from sagemaker>=2.1.0->stepfunctions) (1.0.1)\n",
      "Requirement already satisfied: importlib-metadata>=1.4.0 in /home/ec2-user/anaconda3/envs/tensorflow_p36/lib/python3.6/site-packages (from sagemaker>=2.1.0->stepfunctions) (3.7.0)\n",
      "Requirement already satisfied: attrs in /home/ec2-user/anaconda3/envs/tensorflow_p36/lib/python3.6/site-packages (from sagemaker>=2.1.0->stepfunctions) (20.3.0)\n",
      "Requirement already satisfied: pandas in /home/ec2-user/anaconda3/envs/tensorflow_p36/lib/python3.6/site-packages (from sagemaker>=2.1.0->stepfunctions) (1.1.5)\n",
      "Requirement already satisfied: packaging>=20.0 in /home/ec2-user/anaconda3/envs/tensorflow_p36/lib/python3.6/site-packages (from sagemaker>=2.1.0->stepfunctions) (20.9)\n",
      "Requirement already satisfied: numpy>=1.9.0 in /home/ec2-user/anaconda3/envs/tensorflow_p36/lib/python3.6/site-packages (from sagemaker>=2.1.0->stepfunctions) (1.18.5)\n",
      "Requirement already satisfied: protobuf3-to-dict>=0.1.5 in /home/ec2-user/anaconda3/envs/tensorflow_p36/lib/python3.6/site-packages (from sagemaker>=2.1.0->stepfunctions) (0.1.5)\n",
      "Requirement already satisfied: pathos in /home/ec2-user/anaconda3/envs/tensorflow_p36/lib/python3.6/site-packages (from sagemaker>=2.1.0->stepfunctions) (0.2.7)\n",
      "Requirement already satisfied: protobuf>=3.1 in /home/ec2-user/anaconda3/envs/tensorflow_p36/lib/python3.6/site-packages (from sagemaker>=2.1.0->stepfunctions) (3.15.2)\n",
      "Requirement already satisfied: google-pasta in /home/ec2-user/anaconda3/envs/tensorflow_p36/cpu/lib/python3.6/site-packages (from sagemaker>=2.1.0->stepfunctions) (0.2.0)\n",
      "Requirement already satisfied: zipp>=0.5 in /home/ec2-user/anaconda3/envs/tensorflow_p36/lib/python3.6/site-packages (from importlib-metadata>=1.4.0->sagemaker>=2.1.0->stepfunctions) (3.4.0)\n",
      "Requirement already satisfied: typing-extensions>=3.6.4 in /home/ec2-user/anaconda3/envs/tensorflow_p36/lib/python3.6/site-packages (from importlib-metadata>=1.4.0->sagemaker>=2.1.0->stepfunctions) (3.7.4.3)\n",
      "Requirement already satisfied: pyparsing>=2.0.2 in /home/ec2-user/anaconda3/envs/tensorflow_p36/lib/python3.6/site-packages (from packaging>=20.0->sagemaker>=2.1.0->stepfunctions) (2.4.7)\n",
      "Requirement already satisfied: pytz>=2017.2 in /home/ec2-user/anaconda3/envs/tensorflow_p36/lib/python3.6/site-packages (from pandas->sagemaker>=2.1.0->stepfunctions) (2021.1)\n",
      "Requirement already satisfied: multiprocess>=0.70.11 in /home/ec2-user/anaconda3/envs/tensorflow_p36/lib/python3.6/site-packages (from pathos->sagemaker>=2.1.0->stepfunctions) (0.70.11.1)\n",
      "Requirement already satisfied: pox>=0.2.9 in /home/ec2-user/anaconda3/envs/tensorflow_p36/lib/python3.6/site-packages (from pathos->sagemaker>=2.1.0->stepfunctions) (0.2.9)\n",
      "Requirement already satisfied: ppft>=1.6.6.3 in /home/ec2-user/anaconda3/envs/tensorflow_p36/lib/python3.6/site-packages (from pathos->sagemaker>=2.1.0->stepfunctions) (1.6.6.3)\n",
      "Requirement already satisfied: dill>=0.3.3 in /home/ec2-user/anaconda3/envs/tensorflow_p36/lib/python3.6/site-packages (from pathos->sagemaker>=2.1.0->stepfunctions) (0.3.3)\n"
     ]
    }
   ],
   "source": [
    "!pip install stepfunctions"
   ]
  },
  {
   "cell_type": "code",
   "execution_count": 2,
   "id": "c5383778",
   "metadata": {},
   "outputs": [
    {
     "name": "stdout",
     "output_type": "stream",
     "text": [
      "WARNING:tensorflow:From /home/ec2-user/anaconda3/envs/tensorflow_p36/cpu/lib/python3.6/site-packages/tensorflow_core/__init__.py:1473: The name tf.estimator.inputs is deprecated. Please use tf.compat.v1.estimator.inputs instead.\n",
      "\n"
     ]
    }
   ],
   "source": [
    "import sagemaker\n",
    "from sagemaker.tensorflow.serving import Model\n",
    "from sagemaker.session import Session\n",
    "\n",
    "import stepfunctions\n",
    "from stepfunctions import steps\n",
    "from stepfunctions.steps import ModelStep, EndpointConfigStep, EndpointStep\n",
    "from stepfunctions.inputs import ExecutionInput\n",
    "from stepfunctions.workflow import Workflow\n",
    "from stepfunctions.steps.states import Catch\n",
    "\n",
    "import tensorflow as tf\n",
    "\n",
    "import logging\n",
    "import uuid"
   ]
  },
  {
   "cell_type": "code",
   "execution_count": 3,
   "id": "7ce5efa6",
   "metadata": {},
   "outputs": [],
   "source": [
    "#生成一个唯一id\n",
    "id = uuid.uuid4().hex\n",
    "\n",
    "sagemaker_session = sagemaker.Session()\n",
    "stepfunctions.set_stream_logger(level=logging.INFO)\n",
    "\n",
    "#替换 bucket 和 prefix 为你自己的 bucket name 和前缀\n",
    "bucket = \"sagemaker-techday-becky\"\n",
    "prefix = \"yalla/model\"\n",
    "\n",
    "# SageMaker 运行过程中的 IAM Role\n",
    "sagemaker_execution_role = (\n",
    "    sagemaker.get_execution_role()\n",
    ")  # Replace with ARN if not in an AWS SageMaker notebook"
   ]
  },
  {
   "cell_type": "code",
   "execution_count": 4,
   "id": "66e1f620",
   "metadata": {},
   "outputs": [],
   "source": [
    "# 获取 TensorFlow 模型\n",
    "\n",
    "framework_version = tf.__version__\n",
    "\n",
    "model_name = \"wdl_model.tar.gz\"\n",
    "model_data = \"s3://{}/{}/{}\".format(bucket, prefix, model_name)\n",
    "sm_model = Model(model_data=model_data, framework_version=framework_version, role=sagemaker_execution_role, sagemaker_session=sagemaker_session)"
   ]
  },
  {
   "cell_type": "code",
   "execution_count": 5,
   "id": "2a855ad4",
   "metadata": {},
   "outputs": [],
   "source": [
    "# 定义 step functions \n",
    "execution_input = ExecutionInput(schema={\n",
    "    'ModelName': str,\n",
    "    'EndpointName': str,\n",
    "})"
   ]
  },
  {
   "cell_type": "code",
   "execution_count": 8,
   "id": "cf06b4ee",
   "metadata": {},
   "outputs": [],
   "source": [
    "# 创建save model步骤\n",
    "model_step = steps.ModelStep(\n",
    "    'Save Model',\n",
    "    model=sm_model,\n",
    "    model_name=execution_input[\"ModelName\"],\n",
    "    result_path='$.ModelStepResults',\n",
    "    instance_type='ml.m5.xlarge'\n",
    ")"
   ]
  },
  {
   "cell_type": "code",
   "execution_count": 9,
   "id": "bee704e2",
   "metadata": {},
   "outputs": [],
   "source": [
    "# 创建终端节点配置步骤\n",
    "endpoint_config_step = steps.EndpointConfigStep(\n",
    "    \"Create Model Endpoint Config\",\n",
    "    endpoint_config_name=execution_input[\"ModelName\"],\n",
    "    model_name=execution_input[\"ModelName\"],\n",
    "    initial_instance_count=1,\n",
    "    instance_type='ml.m5.xlarge'\n",
    ")"
   ]
  },
  {
   "cell_type": "code",
   "execution_count": 10,
   "id": "d13c14ea",
   "metadata": {},
   "outputs": [],
   "source": [
    "# 更新终端节点\n",
    "update_endpoint_step = steps.EndpointStep(\n",
    "    'Update Model Endpoint',\n",
    "    endpoint_name=execution_input[\"EndpointName\"],\n",
    "    endpoint_config_name=execution_input[\"ModelName\"],\n",
    "    update=True\n",
    ")"
   ]
  },
  {
   "cell_type": "code",
   "execution_count": 12,
   "id": "2ebb509b",
   "metadata": {},
   "outputs": [],
   "source": [
    "# 创建终端节点\n",
    "create_endpoint_step = steps.EndpointStep(\n",
    "    'create Model Endpoint',\n",
    "    endpoint_name=execution_input[\"EndpointName\"],\n",
    "    endpoint_config_name=execution_input[\"ModelName\"],\n",
    "    update=False\n",
    ")"
   ]
  },
  {
   "cell_type": "code",
   "execution_count": 13,
   "id": "434d66ca",
   "metadata": {},
   "outputs": [],
   "source": [
    "# 创建 Catch，如果更新失败（即endpoint不存在）就创建endpoint\n",
    "update_endpoint_step.add_catch(Catch(\n",
    "    error_equals=[\"States.TaskFailed\"],\n",
    "    next_step=create_endpoint_step\n",
    "))"
   ]
  },
  {
   "cell_type": "code",
   "execution_count": 14,
   "id": "1922875d",
   "metadata": {},
   "outputs": [],
   "source": [
    "# 连接所有步骤\n",
    "workflow_definition = steps.Chain([\n",
    "    model_step,\n",
    "    endpoint_config_step,\n",
    "    update_endpoint_step\n",
    "])"
   ]
  },
  {
   "cell_type": "code",
   "execution_count": 16,
   "id": "68fb646b",
   "metadata": {},
   "outputs": [],
   "source": [
    "# 将AccountID替换成你自己的AccountID\n",
    "workflow_execution_role = 'arn:aws:iam::528326054333:role/StepFunctionsWorkflowExecutionRole'\n",
    "\n",
    "# 定义工作流\n",
    "workflow = Workflow(\n",
    "    name='step_functions_deploySMmodel'.format(id),\n",
    "    definition=workflow_definition,\n",
    "    role=workflow_execution_role,\n",
    "    execution_input=execution_input\n",
    ")"
   ]
  },
  {
   "cell_type": "code",
   "execution_count": 17,
   "id": "5cd80fce",
   "metadata": {},
   "outputs": [
    {
     "name": "stdout",
     "output_type": "stream",
     "text": [
      "\u001b[32m[INFO] Workflow created successfully on AWS Step Functions.\u001b[0m\n"
     ]
    },
    {
     "data": {
      "text/plain": [
       "'arn:aws:states:ap-northeast-1:528326054333:stateMachine:step_functions_deploySMmodel_081177fa4f6d4588a2891e53fdc66752'"
      ]
     },
     "execution_count": 17,
     "metadata": {},
     "output_type": "execute_result"
    }
   ],
   "source": [
    "# 创建 Step Functions 状态机\n",
    "\n",
    "workflow.create()"
   ]
  },
  {
   "cell_type": "code",
   "execution_count": null,
   "id": "52cf3a49",
   "metadata": {},
   "outputs": [],
   "source": []
  },
  {
   "cell_type": "code",
   "execution_count": null,
   "id": "d5f63392",
   "metadata": {},
   "outputs": [],
   "source": []
  },
  {
   "cell_type": "code",
   "execution_count": null,
   "id": "48f315dc",
   "metadata": {},
   "outputs": [],
   "source": [
    "# 测试执行 step functions 状态机\n",
    "\n",
    "# import datetime\n",
    "\n",
    "# curr_time = datetime.datetime.now().strftime('%Y-%m-%d-%H-%M-%S')\n",
    "# execution = workflow.execute(\n",
    "#     inputs={\n",
    "#         \"ModelName\": \"yalla-sm-model-{}\".format(curr_time),\n",
    "#         \"EndpointName\": \"yalla-sm-endpoint\",\n",
    "#     }\n",
    "# )"
   ]
  }
 ],
 "metadata": {
  "kernelspec": {
   "display_name": "conda_tensorflow_p36",
   "language": "python",
   "name": "conda_tensorflow_p36"
  },
  "language_info": {
   "codemirror_mode": {
    "name": "ipython",
    "version": 3
   },
   "file_extension": ".py",
   "mimetype": "text/x-python",
   "name": "python",
   "nbconvert_exporter": "python",
   "pygments_lexer": "ipython3",
   "version": "3.6.13"
  }
 },
 "nbformat": 4,
 "nbformat_minor": 5
}
